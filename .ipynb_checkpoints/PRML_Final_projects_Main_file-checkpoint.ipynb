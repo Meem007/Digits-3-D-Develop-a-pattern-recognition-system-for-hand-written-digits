{
 "cells": [
  {
   "cell_type": "markdown",
   "metadata": {},
   "source": [
    "### Student name: Jhuma Mim, Bipul Biswas\n"
   ]
  },
  {
   "cell_type": "markdown",
   "metadata": {},
   "source": [
    "### Projects Outlines:\n",
    "The project outline is three steps process, \n",
    "1. Classification using the Logistic Regression (LR) classifier, we used the sikit-learn library for it.\n",
    "2. Develop our own LR classifier from scratch without using any built-in library function.\n",
    "- Loss function / negative log-likelihood\n",
    "- Gradient and Gradient descendent\n",
    "3. Develop a Neural Network (NN) from scratch\n",
    "- Neural NetworkNeural Network, Loss Function and Optimization.\n",
    "- Building a one layer NN using numpy to understand the backpropagation.\n",
    "- Gradient check using finite-difference approximation.\n",
    "- Stochatic Gradient Descent (SGD).\n",
    "- Simple hype-parameters tuning methods to improve NN performance.\n",
    "\n",
    "#####  NN file PRML_Final_projects_NN_clssifier.ipnyb\n",
    "\n",
    "\n",
    "#### Methodology of classification:\n",
    "\n",
    "(i) Data processing, divided data into 80% train, 20% validation set \n",
    "(ii) Run classification with an existing classifier library that is a Logistic regression classifier; we use it as our baseline. This is because when we build our classifier, we can compare it with this library classifier.\n",
    "(iii) Run our developed LR and NN classifier and compare the result with the baseline classifier.\n",
    "\n"
   ]
  },
  {
   "cell_type": "code",
   "execution_count": 1,
   "metadata": {},
   "outputs": [],
   "source": [
    "!pip install tensorflow\n",
    "!pip install sklearn\n",
    "!pip install numpy\n",
    "!pip install matplotlib"
   ]
  },
  {
   "cell_type": "code",
   "execution_count": 5,
   "metadata": {},
   "outputs": [
    {
     "name": "stdout",
     "output_type": "stream",
     "text": [
      "Python 3.9.12\n"
     ]
    }
   ],
   "source": [
    "!python -V"
   ]
  },
  {
   "cell_type": "markdown",
   "metadata": {},
   "source": [
    "##  Import libraries, loading and preprocessing the training and testing data\n"
   ]
  },
  {
   "cell_type": "code",
   "execution_count": 1,
   "metadata": {},
   "outputs": [],
   "source": [
    "import tensorflow as tf\n",
    "from sklearn.model_selection import train_test_split\n",
    "import numpy as np\n",
    "import pandas as pd\n",
    "import scipy.stats as stats\n",
    "import matplotlib, time, copy, os, requests, zipfile, sys\n",
    "from sklearn.preprocessing import OneHotEncoder\n",
    "from scipy.special import softmax\n",
    "onehot_encoder = OneHotEncoder(sparse=False)\n",
    "# Matplotlib to plot the image\n",
    "import matplotlib.pyplot as plt\n",
    "# Off-the-shelf evaluation functions provided by sklearn\n",
    "from sklearn.metrics import confusion_matrix, accuracy_score\n",
    "# Matplotlib predefined 'magic function'. It will include graphs in your notebook, next to the code\n",
    "%matplotlib inline"
   ]
  },
  {
   "cell_type": "code",
   "execution_count": 2,
   "metadata": {},
   "outputs": [],
   "source": [
    "# data reading\n",
    "instruction=[]\n",
    "label=[]\n",
    "\n",
    "for i in range(10):\n",
    "    for x in range(88):\n",
    "        if x < 9:\n",
    "            data=pd.read_csv('training_data/stroke_'+str(i)+'_000'+str(x+1)+'.csv',header=None )  \n",
    "        else:\n",
    "            data=pd.read_csv('training_data/stroke_'+str(i)+'_00'+str(x+1)+'.csv' ,header=None)         \n",
    "        m=[]\n",
    "        for j in range(len(data)):   \n",
    "            m.append(data[0][j])\n",
    "            m.append(data[1][j])\n",
    "            m.append(data[2][j])\n",
    "        z = [0] * 879\n",
    "        n=m+z\n",
    "        instruction.append(n[:879])\n",
    "        label.append(i)"
   ]
  },
  {
   "cell_type": "code",
   "execution_count": 3,
   "metadata": {},
   "outputs": [
    {
     "data": {
      "text/plain": [
       "0      [-8.9283, 304.45, -18.469, -9.1475, 304.36, -1...\n",
       "1      [5.216, 284.05, -31.627, 4.4335, 284.87, -31.4...\n",
       "2      [-18.936, 532.37, -50.688, -18.736, 532.44, -5...\n",
       "3      [34.544, 501.13, -101.53, 35.731, 502.84, -100...\n",
       "4      [-37.598, 319.47, -19.287, -37.697, 319.39, -1...\n",
       "                             ...                        \n",
       "875    [-2.4289, 270.34, -31.89, -2.4386, 270.16, -31...\n",
       "876    [3.7842, 341.6, -15.488, -1.6251, 348.81, -15....\n",
       "877    [16.433, 282.77, -23.029, 15.942, 283.35, -22....\n",
       "878    [23.074, 315.42, -12.243, 23.117, 315.42, -12....\n",
       "879    [-30.774, 348.08, -18.696, -30.575, 347.99, -1...\n",
       "Name: instruction, Length: 880, dtype: object"
      ]
     },
     "execution_count": 3,
     "metadata": {},
     "output_type": "execute_result"
    }
   ],
   "source": [
    "# data converting into pandas data frame, also scaling\n",
    "from scipy.stats import zscore\n",
    "\n",
    "# dictionary of lists \n",
    "dict = {'instruction': instruction, 'label': label}     \n",
    "df = pd.DataFrame(dict)\n",
    "f=df['instruction']\n",
    "f\n"
   ]
  },
  {
   "cell_type": "code",
   "execution_count": 5,
   "metadata": {},
   "outputs": [
    {
     "data": {
      "text/html": [
       "<div>\n",
       "<style scoped>\n",
       "    .dataframe tbody tr th:only-of-type {\n",
       "        vertical-align: middle;\n",
       "    }\n",
       "\n",
       "    .dataframe tbody tr th {\n",
       "        vertical-align: top;\n",
       "    }\n",
       "\n",
       "    .dataframe thead th {\n",
       "        text-align: right;\n",
       "    }\n",
       "</style>\n",
       "<table border=\"1\" class=\"dataframe\">\n",
       "  <thead>\n",
       "    <tr style=\"text-align: right;\">\n",
       "      <th></th>\n",
       "      <th>instruction</th>\n",
       "      <th>label</th>\n",
       "    </tr>\n",
       "  </thead>\n",
       "  <tbody>\n",
       "    <tr>\n",
       "      <th>0</th>\n",
       "      <td>[-8.9283, 304.45, -18.469, -9.1475, 304.36, -1...</td>\n",
       "      <td>0</td>\n",
       "    </tr>\n",
       "    <tr>\n",
       "      <th>1</th>\n",
       "      <td>[5.216, 284.05, -31.627, 4.4335, 284.87, -31.4...</td>\n",
       "      <td>0</td>\n",
       "    </tr>\n",
       "    <tr>\n",
       "      <th>2</th>\n",
       "      <td>[-18.936, 532.37, -50.688, -18.736, 532.44, -5...</td>\n",
       "      <td>0</td>\n",
       "    </tr>\n",
       "    <tr>\n",
       "      <th>3</th>\n",
       "      <td>[34.544, 501.13, -101.53, 35.731, 502.84, -100...</td>\n",
       "      <td>0</td>\n",
       "    </tr>\n",
       "    <tr>\n",
       "      <th>4</th>\n",
       "      <td>[-37.598, 319.47, -19.287, -37.697, 319.39, -1...</td>\n",
       "      <td>0</td>\n",
       "    </tr>\n",
       "    <tr>\n",
       "      <th>...</th>\n",
       "      <td>...</td>\n",
       "      <td>...</td>\n",
       "    </tr>\n",
       "    <tr>\n",
       "      <th>875</th>\n",
       "      <td>[-2.4289, 270.34, -31.89, -2.4386, 270.16, -31...</td>\n",
       "      <td>9</td>\n",
       "    </tr>\n",
       "    <tr>\n",
       "      <th>876</th>\n",
       "      <td>[3.7842, 341.6, -15.488, -1.6251, 348.81, -15....</td>\n",
       "      <td>9</td>\n",
       "    </tr>\n",
       "    <tr>\n",
       "      <th>877</th>\n",
       "      <td>[16.433, 282.77, -23.029, 15.942, 283.35, -22....</td>\n",
       "      <td>9</td>\n",
       "    </tr>\n",
       "    <tr>\n",
       "      <th>878</th>\n",
       "      <td>[23.074, 315.42, -12.243, 23.117, 315.42, -12....</td>\n",
       "      <td>9</td>\n",
       "    </tr>\n",
       "    <tr>\n",
       "      <th>879</th>\n",
       "      <td>[-30.774, 348.08, -18.696, -30.575, 347.99, -1...</td>\n",
       "      <td>9</td>\n",
       "    </tr>\n",
       "  </tbody>\n",
       "</table>\n",
       "<p>880 rows × 2 columns</p>\n",
       "</div>"
      ],
      "text/plain": [
       "                                           instruction  label\n",
       "0    [-8.9283, 304.45, -18.469, -9.1475, 304.36, -1...      0\n",
       "1    [5.216, 284.05, -31.627, 4.4335, 284.87, -31.4...      0\n",
       "2    [-18.936, 532.37, -50.688, -18.736, 532.44, -5...      0\n",
       "3    [34.544, 501.13, -101.53, 35.731, 502.84, -100...      0\n",
       "4    [-37.598, 319.47, -19.287, -37.697, 319.39, -1...      0\n",
       "..                                                 ...    ...\n",
       "875  [-2.4289, 270.34, -31.89, -2.4386, 270.16, -31...      9\n",
       "876  [3.7842, 341.6, -15.488, -1.6251, 348.81, -15....      9\n",
       "877  [16.433, 282.77, -23.029, 15.942, 283.35, -22....      9\n",
       "878  [23.074, 315.42, -12.243, 23.117, 315.42, -12....      9\n",
       "879  [-30.774, 348.08, -18.696, -30.575, 347.99, -1...      9\n",
       "\n",
       "[880 rows x 2 columns]"
      ]
     },
     "execution_count": 5,
     "metadata": {},
     "output_type": "execute_result"
    }
   ],
   "source": [
    "df"
   ]
  },
  {
   "cell_type": "code",
   "execution_count": 6,
   "metadata": {},
   "outputs": [],
   "source": [
    "#divided data into train and validation\n",
    "X_train, X_test, y_train, y_test = train_test_split(f, df['label'], test_size=0.001, random_state=42)\n",
    "\n",
    "p=[]\n",
    "for i in X_train:\n",
    "    p.append(list(i))\n",
    "X_train=np.array(p)\n",
    "X_train.shape\n",
    "\n",
    "c=[]\n",
    "for i in X_test:\n",
    "    c.append(list(i))\n",
    "X_test=np.array(c)\n",
    "X_test.shape\n",
    "X_test= X_train \n",
    "y_test= y_train"
   ]
  },
  {
   "cell_type": "code",
   "execution_count": 7,
   "metadata": {},
   "outputs": [
    {
     "data": {
      "text/plain": [
       "(879, 879)"
      ]
     },
     "execution_count": 7,
     "metadata": {},
     "output_type": "execute_result"
    }
   ],
   "source": [
    "X_train.shape"
   ]
  },
  {
   "cell_type": "code",
   "execution_count": 8,
   "metadata": {
    "scrolled": true
   },
   "outputs": [
    {
     "name": "stderr",
     "output_type": "stream",
     "text": [
      "C:\\Users\\meemk\\anaconda3\\lib\\site-packages\\sklearn\\linear_model\\_logistic.py:814: ConvergenceWarning: lbfgs failed to converge (status=1):\n",
      "STOP: TOTAL NO. of ITERATIONS REACHED LIMIT.\n",
      "\n",
      "Increase the number of iterations (max_iter) or scale the data as shown in:\n",
      "    https://scikit-learn.org/stable/modules/preprocessing.html\n",
      "Please also refer to the documentation for alternative solver options:\n",
      "    https://scikit-learn.org/stable/modules/linear_model.html#logistic-regression\n",
      "  n_iter_i = _check_optimize_result(\n"
     ]
    }
   ],
   "source": [
    "# Base line classifier setup Logistic regression\n",
    "from sklearn.datasets import load_iris\n",
    "from sklearn.linear_model import LogisticRegression\n",
    "\n",
    "clf = LogisticRegression(random_state=0).fit(X_train,y_train)\n",
    "\n"
   ]
  },
  {
   "cell_type": "code",
   "execution_count": 9,
   "metadata": {},
   "outputs": [
    {
     "data": {
      "text/plain": [
       "0.8134243458475541"
      ]
     },
     "execution_count": 9,
     "metadata": {},
     "output_type": "execute_result"
    }
   ],
   "source": [
    "clf.score(X_test,y_test)"
   ]
  },
  {
   "cell_type": "markdown",
   "metadata": {},
   "source": [
    "### Built a LR  digit (0...9) detection classifier from scratch"
   ]
  },
  {
   "cell_type": "code",
   "execution_count": 10,
   "metadata": {
    "scrolled": false
   },
   "outputs": [],
   "source": [
    "# Load the training input\n",
    "X_train = X_train\n",
    "# Load the training labels\n",
    "X_test = X_test\n",
    "# Load the testing input\n",
    "Y_train = y_train\n",
    "# Load the testing labels\n",
    "Y_test = y_test\n",
    "\n",
    "# # Get the number of classes\n",
    "# num_classes = 10\n",
    "# # Get the number of training samples and their resolution for reshape\n",
    "# num_trains= X_train.shape\n",
    "\n",
    "# def one_hot_vector(x, num_classes):\n",
    "#     # By now, I think you already heard about this so many times\n",
    "#     return np.eye(num_classes)[x].T\n",
    "\n",
    "# Y_train, Y_test = one_hot_vector(Y_train, num_classes), one_hot_vector(Y_test, num_classes)\n",
    "# len(Y_train[0])"
   ]
  },
  {
   "cell_type": "code",
   "execution_count": 11,
   "metadata": {},
   "outputs": [],
   "source": [
    "def gradient_calculation(X, Y, W, mu):\n",
    "#Gradient descent (GD) is an iterative first-order optimisation \n",
    "#algorithm used to find a local minimum/maximum of a given function.\n",
    "    Z = - X @ W\n",
    "    P = softmax(Z, axis=1)\n",
    "    N = X.shape[0]\n",
    "    gradient = 1/N * (X.T @ (Y - P)) + 2 * mu * W\n",
    "    return gradient\n",
    "\n",
    "def loss(X, Y, W):\n",
    "    # Y: onehot encoded\n",
    "    Z = - X @ W\n",
    "    N = X.shape[0]\n",
    "    loss = 1/N * (np.trace(X @ W @ Y.T) + np.sum(np.log(np.sum(np.exp(Z), axis=1))))\n",
    "    return loss\n",
    "\n",
    "\n",
    "def gradient_descent_calculation(X, Y, iteration=70000, eta=0.01, mu=0.001):\n",
    "    #Gradient descent changes the value of our weights in such a way that it always \n",
    "    #converges to minimum point or we can also say that, it aims at finding the optimal \n",
    "    #weights which minimize the loss function of our model.\n",
    "    # Here We have used  basic gradient descent  calculation a with fixed eta and mu\n",
    "\n",
    "    Y_onehot = onehot_encoder.fit_transform(Y.reshape(-1,1)) # y onehot ecodded\n",
    "    W = np.zeros((X.shape[1], Y_onehot.shape[1]))\n",
    "    step = 0\n",
    "    step_lst = [] \n",
    "    loss_lst = []\n",
    "    W_lst = []\n",
    " \n",
    "    while step < iteration: # run code for sevarel iteration for finding the optimum value\n",
    "        step += 1\n",
    "        W -= eta * gradient_calculation(X, Y_onehot, W, mu)\n",
    "        step_lst.append(step)\n",
    "        W_lst.append(W)\n",
    "        loss_lst.append(loss(X, Y_onehot, W))\n",
    "\n",
    "    step_loss = pd.DataFrame({\n",
    "        'step': step_lst, \n",
    "        'loss': loss_lst\n",
    "    })\n",
    "    return step_loss, W # return  step and losses to plot, return datas as pandas data frame\n",
    "\n",
    "class digit_classification_multilevel: # this class will call for model fit and digit classification\n",
    "    \n",
    "    def model_fit(self, X, Y): # funtion for model fitting\n",
    "        self.loss_steps, self.W = gradient_descent_calculation(X, Y)\n",
    "\n",
    "    def loss_calculation_plot(self): # funtion for loss plot\n",
    "        return self.loss_steps.plot(\n",
    "            x='step', \n",
    "            y='loss',\n",
    "            xlabel='step',\n",
    "            ylabel='loss'\n",
    "        )\n",
    "\n",
    "    def digit_classification(self, H): # funtion for  digit classification\n",
    "        Z = - H @ self.W\n",
    "        P = softmax(Z, axis=1)\n",
    "        return np.argmax(P, axis=1)"
   ]
  },
  {
   "cell_type": "code",
   "execution_count": 12,
   "metadata": {},
   "outputs": [
    {
     "name": "stderr",
     "output_type": "stream",
     "text": [
      "C:\\Users\\meemk\\AppData\\Local\\Temp\\ipykernel_20668\\100971464.py:14: RuntimeWarning: overflow encountered in exp\n",
      "  loss = 1/N * (np.trace(X @ W @ Y.T) + np.sum(np.log(np.sum(np.exp(Z), axis=1))))\n",
      "C:\\Users\\meemk\\anaconda3\\lib\\site-packages\\numpy\\core\\fromnumeric.py:86: RuntimeWarning: overflow encountered in reduce\n",
      "  return ufunc.reduce(obj, axis, dtype, out, **passkwargs)\n"
     ]
    }
   ],
   "source": [
    "y=np.array(y_train)\n",
    "model = digit_classification_multilevel()\n",
    "model.model_fit(X_train, y)"
   ]
  },
  {
   "cell_type": "code",
   "execution_count": 13,
   "metadata": {},
   "outputs": [
    {
     "data": {
      "text/plain": [
       "0.955"
      ]
     },
     "execution_count": 13,
     "metadata": {},
     "output_type": "execute_result"
    }
   ],
   "source": [
    "accuracy_score(model.digit_classification(X_test[:200]), y[:200])"
   ]
  },
  {
   "cell_type": "code",
   "execution_count": 14,
   "metadata": {},
   "outputs": [
    {
     "data": {
      "image/png": "[encoded data removed]",
      "text/plain": [
       "<Figure size 720x504 with 2 Axes>"
      ]
     },
     "metadata": {
      "needs_background": "light"
     },
     "output_type": "display_data"
    }
   ],
   "source": [
    "#plot confusion matrix\n",
    "import seaborn as sn\n",
    "import pandas as pd\n",
    "import matplotlib.pyplot as plt\n",
    "\n",
    "x=confusion_matrix(y[:200], model.digit_classification(X_test[:200]))\n",
    "array = x\n",
    "df_cm = pd.DataFrame(array, range(10), range(10))\n",
    "plt.figure(figsize=(10,7))\n",
    "sn.set(font_scale=1.4) # for label size\n",
    "sn.heatmap(df_cm, annot=True, annot_kws={\"size\": 16}) # font size\n",
    "\n",
    "plt.show()"
   ]
  },
  {
   "cell_type": "code",
   "execution_count": 15,
   "metadata": {},
   "outputs": [
    {
     "name": "stdout",
     "output_type": "stream",
     "text": [
      "[2]\n"
     ]
    }
   ],
   "source": [
    "print(model.digit_classification(X_test[:1]))"
   ]
  },
  {
   "cell_type": "code",
   "execution_count": 16,
   "metadata": {},
   "outputs": [
    {
     "data": {
      "text/plain": [
       "array([[-4.1173e+01,  3.1577e+02, -4.1391e+01, -4.1671e+01,  3.1581e+02,\n",
       "        -4.1693e+01, -4.2600e+01,  3.1655e+02, -4.2153e+01, -4.3316e+01,\n",
       "         3.1909e+02, -4.2063e+01, -4.3272e+01,  3.2560e+02, -4.1367e+01,\n",
       "        -4.1201e+01,  3.3449e+02, -4.1851e+01, -3.7092e+01,  3.4218e+02,\n",
       "        -4.1303e+01, -3.0644e+01,  3.4938e+02, -4.1193e+01, -2.2023e+01,\n",
       "         3.5580e+02, -4.0297e+01, -1.1651e+01,  3.6129e+02, -4.1114e+01,\n",
       "        -3.6261e+00,  3.6402e+02, -4.1572e+01,  1.0266e+01,  3.6630e+02,\n",
       "        -4.3732e+01,  2.3155e+01,  3.6442e+02, -4.5771e+01,  3.4282e+01,\n",
       "         3.5881e+02, -4.5876e+01,  4.1715e+01,  3.4966e+02, -4.8162e+01,\n",
       "         4.5924e+01,  3.3824e+02, -5.0044e+01,  4.5974e+01,  3.2574e+02,\n",
       "        -5.0124e+01,  4.2586e+01,  3.1205e+02, -5.0670e+01,  3.5207e+01,\n",
       "         2.9765e+02, -5.0874e+01,  2.3527e+01,  2.8529e+02, -5.1557e+01,\n",
       "         9.8300e+00,  2.7191e+02, -5.1002e+01, -8.7300e-02,  2.6359e+02,\n",
       "        -5.0199e+01, -1.4929e+01,  2.5126e+02, -4.8473e+01, -1.9629e+01,\n",
       "         2.4741e+02, -4.7547e+01, -3.9515e+01,  2.2991e+02, -4.3379e+01,\n",
       "        -4.5821e+01,  2.2233e+02, -4.1152e+01, -4.8580e+01,  2.1653e+02,\n",
       "        -3.9928e+01, -4.8382e+01,  2.1134e+02, -3.8368e+01, -4.3944e+01,\n",
       "         2.0719e+02, -3.6974e+01, -3.5683e+01,  2.0430e+02, -3.6348e+01,\n",
       "        -2.3324e+01,  2.0246e+02, -3.6481e+01, -8.5882e+00,  2.0120e+02,\n",
       "        -3.7121e+01,  7.0906e+00,  2.0010e+02, -3.7785e+01,  1.7666e+01,\n",
       "         1.9895e+02, -3.8574e+01,  3.2624e+01,  1.9709e+02, -3.8837e+01,\n",
       "         4.5249e+01,  1.9491e+02, -3.8796e+01,  5.4839e+01,  1.9357e+02,\n",
       "        -3.9014e+01,  6.1160e+01,  1.9306e+02, -3.7595e+01,  6.4393e+01,\n",
       "         1.9341e+02, -3.6900e+01,  6.5562e+01,  1.9399e+02, -3.6440e+01,\n",
       "         6.5383e+01,  1.9497e+02, -3.4463e+01,  6.4226e+01,  1.9618e+02,\n",
       "        -3.3156e+01,  6.2178e+01,  1.9738e+02, -3.1931e+01,  5.8826e+01,\n",
       "         1.9925e+02, -3.0275e+01,  5.5636e+01,  2.0255e+02, -2.7798e+01,\n",
       "         0.0000e+00,  0.0000e+00,  0.0000e+00,  0.0000e+00,  0.0000e+00,\n",
       "         0.0000e+00,  0.0000e+00,  0.0000e+00,  0.0000e+00,  0.0000e+00,\n",
       "         0.0000e+00,  0.0000e+00,  0.0000e+00,  0.0000e+00,  0.0000e+00,\n",
       "         0.0000e+00,  0.0000e+00,  0.0000e+00,  0.0000e+00,  0.0000e+00,\n",
       "         0.0000e+00,  0.0000e+00,  0.0000e+00,  0.0000e+00,  0.0000e+00,\n",
       "         0.0000e+00,  0.0000e+00,  0.0000e+00,  0.0000e+00,  0.0000e+00,\n",
       "         0.0000e+00,  0.0000e+00,  0.0000e+00,  0.0000e+00,  0.0000e+00,\n",
       "         0.0000e+00,  0.0000e+00,  0.0000e+00,  0.0000e+00,  0.0000e+00,\n",
       "         0.0000e+00,  0.0000e+00,  0.0000e+00,  0.0000e+00,  0.0000e+00,\n",
       "         0.0000e+00,  0.0000e+00,  0.0000e+00,  0.0000e+00,  0.0000e+00,\n",
       "         0.0000e+00,  0.0000e+00,  0.0000e+00,  0.0000e+00,  0.0000e+00,\n",
       "         0.0000e+00,  0.0000e+00,  0.0000e+00,  0.0000e+00,  0.0000e+00,\n",
       "         0.0000e+00,  0.0000e+00,  0.0000e+00,  0.0000e+00,  0.0000e+00,\n",
       "         0.0000e+00,  0.0000e+00,  0.0000e+00,  0.0000e+00,  0.0000e+00,\n",
       "         0.0000e+00,  0.0000e+00,  0.0000e+00,  0.0000e+00,  0.0000e+00,\n",
       "         0.0000e+00,  0.0000e+00,  0.0000e+00,  0.0000e+00,  0.0000e+00,\n",
       "         0.0000e+00,  0.0000e+00,  0.0000e+00,  0.0000e+00,  0.0000e+00,\n",
       "         0.0000e+00,  0.0000e+00,  0.0000e+00,  0.0000e+00,  0.0000e+00,\n",
       "         0.0000e+00,  0.0000e+00,  0.0000e+00,  0.0000e+00,  0.0000e+00,\n",
       "         0.0000e+00,  0.0000e+00,  0.0000e+00,  0.0000e+00,  0.0000e+00,\n",
       "         0.0000e+00,  0.0000e+00,  0.0000e+00,  0.0000e+00,  0.0000e+00,\n",
       "         0.0000e+00,  0.0000e+00,  0.0000e+00,  0.0000e+00,  0.0000e+00,\n",
       "         0.0000e+00,  0.0000e+00,  0.0000e+00,  0.0000e+00,  0.0000e+00,\n",
       "         0.0000e+00,  0.0000e+00,  0.0000e+00,  0.0000e+00,  0.0000e+00,\n",
       "         0.0000e+00,  0.0000e+00,  0.0000e+00,  0.0000e+00,  0.0000e+00,\n",
       "         0.0000e+00,  0.0000e+00,  0.0000e+00,  0.0000e+00,  0.0000e+00,\n",
       "         0.0000e+00,  0.0000e+00,  0.0000e+00,  0.0000e+00,  0.0000e+00,\n",
       "         0.0000e+00,  0.0000e+00,  0.0000e+00,  0.0000e+00,  0.0000e+00,\n",
       "         0.0000e+00,  0.0000e+00,  0.0000e+00,  0.0000e+00,  0.0000e+00,\n",
       "         0.0000e+00,  0.0000e+00,  0.0000e+00,  0.0000e+00,  0.0000e+00,\n",
       "         0.0000e+00,  0.0000e+00,  0.0000e+00,  0.0000e+00,  0.0000e+00,\n",
       "         0.0000e+00,  0.0000e+00,  0.0000e+00,  0.0000e+00,  0.0000e+00,\n",
       "         0.0000e+00,  0.0000e+00,  0.0000e+00,  0.0000e+00,  0.0000e+00,\n",
       "         0.0000e+00,  0.0000e+00,  0.0000e+00,  0.0000e+00,  0.0000e+00,\n",
       "         0.0000e+00,  0.0000e+00,  0.0000e+00,  0.0000e+00,  0.0000e+00,\n",
       "         0.0000e+00,  0.0000e+00,  0.0000e+00,  0.0000e+00,  0.0000e+00,\n",
       "         0.0000e+00,  0.0000e+00,  0.0000e+00,  0.0000e+00,  0.0000e+00,\n",
       "         0.0000e+00,  0.0000e+00,  0.0000e+00,  0.0000e+00,  0.0000e+00,\n",
       "         0.0000e+00,  0.0000e+00,  0.0000e+00,  0.0000e+00,  0.0000e+00,\n",
       "         0.0000e+00,  0.0000e+00,  0.0000e+00,  0.0000e+00,  0.0000e+00,\n",
       "         0.0000e+00,  0.0000e+00,  0.0000e+00,  0.0000e+00,  0.0000e+00,\n",
       "         0.0000e+00,  0.0000e+00,  0.0000e+00,  0.0000e+00,  0.0000e+00,\n",
       "         0.0000e+00,  0.0000e+00,  0.0000e+00,  0.0000e+00,  0.0000e+00,\n",
       "         0.0000e+00,  0.0000e+00,  0.0000e+00,  0.0000e+00,  0.0000e+00,\n",
       "         0.0000e+00,  0.0000e+00,  0.0000e+00,  0.0000e+00,  0.0000e+00,\n",
       "         0.0000e+00,  0.0000e+00,  0.0000e+00,  0.0000e+00,  0.0000e+00,\n",
       "         0.0000e+00,  0.0000e+00,  0.0000e+00,  0.0000e+00,  0.0000e+00,\n",
       "         0.0000e+00,  0.0000e+00,  0.0000e+00,  0.0000e+00,  0.0000e+00,\n",
       "         0.0000e+00,  0.0000e+00,  0.0000e+00,  0.0000e+00,  0.0000e+00,\n",
       "         0.0000e+00,  0.0000e+00,  0.0000e+00,  0.0000e+00,  0.0000e+00,\n",
       "         0.0000e+00,  0.0000e+00,  0.0000e+00,  0.0000e+00,  0.0000e+00,\n",
       "         0.0000e+00,  0.0000e+00,  0.0000e+00,  0.0000e+00,  0.0000e+00,\n",
       "         0.0000e+00,  0.0000e+00,  0.0000e+00,  0.0000e+00,  0.0000e+00,\n",
       "         0.0000e+00,  0.0000e+00,  0.0000e+00,  0.0000e+00,  0.0000e+00,\n",
       "         0.0000e+00,  0.0000e+00,  0.0000e+00,  0.0000e+00,  0.0000e+00,\n",
       "         0.0000e+00,  0.0000e+00,  0.0000e+00,  0.0000e+00,  0.0000e+00,\n",
       "         0.0000e+00,  0.0000e+00,  0.0000e+00,  0.0000e+00,  0.0000e+00,\n",
       "         0.0000e+00,  0.0000e+00,  0.0000e+00,  0.0000e+00,  0.0000e+00,\n",
       "         0.0000e+00,  0.0000e+00,  0.0000e+00,  0.0000e+00,  0.0000e+00,\n",
       "         0.0000e+00,  0.0000e+00,  0.0000e+00,  0.0000e+00,  0.0000e+00,\n",
       "         0.0000e+00,  0.0000e+00,  0.0000e+00,  0.0000e+00,  0.0000e+00,\n",
       "         0.0000e+00,  0.0000e+00,  0.0000e+00,  0.0000e+00,  0.0000e+00,\n",
       "         0.0000e+00,  0.0000e+00,  0.0000e+00,  0.0000e+00,  0.0000e+00,\n",
       "         0.0000e+00,  0.0000e+00,  0.0000e+00,  0.0000e+00,  0.0000e+00,\n",
       "         0.0000e+00,  0.0000e+00,  0.0000e+00,  0.0000e+00,  0.0000e+00,\n",
       "         0.0000e+00,  0.0000e+00,  0.0000e+00,  0.0000e+00,  0.0000e+00,\n",
       "         0.0000e+00,  0.0000e+00,  0.0000e+00,  0.0000e+00,  0.0000e+00,\n",
       "         0.0000e+00,  0.0000e+00,  0.0000e+00,  0.0000e+00,  0.0000e+00,\n",
       "         0.0000e+00,  0.0000e+00,  0.0000e+00,  0.0000e+00,  0.0000e+00,\n",
       "         0.0000e+00,  0.0000e+00,  0.0000e+00,  0.0000e+00,  0.0000e+00,\n",
       "         0.0000e+00,  0.0000e+00,  0.0000e+00,  0.0000e+00,  0.0000e+00,\n",
       "         0.0000e+00,  0.0000e+00,  0.0000e+00,  0.0000e+00,  0.0000e+00,\n",
       "         0.0000e+00,  0.0000e+00,  0.0000e+00,  0.0000e+00,  0.0000e+00,\n",
       "         0.0000e+00,  0.0000e+00,  0.0000e+00,  0.0000e+00,  0.0000e+00,\n",
       "         0.0000e+00,  0.0000e+00,  0.0000e+00,  0.0000e+00,  0.0000e+00,\n",
       "         0.0000e+00,  0.0000e+00,  0.0000e+00,  0.0000e+00,  0.0000e+00,\n",
       "         0.0000e+00,  0.0000e+00,  0.0000e+00,  0.0000e+00,  0.0000e+00,\n",
       "         0.0000e+00,  0.0000e+00,  0.0000e+00,  0.0000e+00,  0.0000e+00,\n",
       "         0.0000e+00,  0.0000e+00,  0.0000e+00,  0.0000e+00,  0.0000e+00,\n",
       "         0.0000e+00,  0.0000e+00,  0.0000e+00,  0.0000e+00,  0.0000e+00,\n",
       "         0.0000e+00,  0.0000e+00,  0.0000e+00,  0.0000e+00,  0.0000e+00,\n",
       "         0.0000e+00,  0.0000e+00,  0.0000e+00,  0.0000e+00,  0.0000e+00,\n",
       "         0.0000e+00,  0.0000e+00,  0.0000e+00,  0.0000e+00,  0.0000e+00,\n",
       "         0.0000e+00,  0.0000e+00,  0.0000e+00,  0.0000e+00,  0.0000e+00,\n",
       "         0.0000e+00,  0.0000e+00,  0.0000e+00,  0.0000e+00,  0.0000e+00,\n",
       "         0.0000e+00,  0.0000e+00,  0.0000e+00,  0.0000e+00,  0.0000e+00,\n",
       "         0.0000e+00,  0.0000e+00,  0.0000e+00,  0.0000e+00,  0.0000e+00,\n",
       "         0.0000e+00,  0.0000e+00,  0.0000e+00,  0.0000e+00,  0.0000e+00,\n",
       "         0.0000e+00,  0.0000e+00,  0.0000e+00,  0.0000e+00,  0.0000e+00,\n",
       "         0.0000e+00,  0.0000e+00,  0.0000e+00,  0.0000e+00,  0.0000e+00,\n",
       "         0.0000e+00,  0.0000e+00,  0.0000e+00,  0.0000e+00,  0.0000e+00,\n",
       "         0.0000e+00,  0.0000e+00,  0.0000e+00,  0.0000e+00,  0.0000e+00,\n",
       "         0.0000e+00,  0.0000e+00,  0.0000e+00,  0.0000e+00,  0.0000e+00,\n",
       "         0.0000e+00,  0.0000e+00,  0.0000e+00,  0.0000e+00,  0.0000e+00,\n",
       "         0.0000e+00,  0.0000e+00,  0.0000e+00,  0.0000e+00,  0.0000e+00,\n",
       "         0.0000e+00,  0.0000e+00,  0.0000e+00,  0.0000e+00,  0.0000e+00,\n",
       "         0.0000e+00,  0.0000e+00,  0.0000e+00,  0.0000e+00,  0.0000e+00,\n",
       "         0.0000e+00,  0.0000e+00,  0.0000e+00,  0.0000e+00,  0.0000e+00,\n",
       "         0.0000e+00,  0.0000e+00,  0.0000e+00,  0.0000e+00,  0.0000e+00,\n",
       "         0.0000e+00,  0.0000e+00,  0.0000e+00,  0.0000e+00,  0.0000e+00,\n",
       "         0.0000e+00,  0.0000e+00,  0.0000e+00,  0.0000e+00,  0.0000e+00,\n",
       "         0.0000e+00,  0.0000e+00,  0.0000e+00,  0.0000e+00,  0.0000e+00,\n",
       "         0.0000e+00,  0.0000e+00,  0.0000e+00,  0.0000e+00,  0.0000e+00,\n",
       "         0.0000e+00,  0.0000e+00,  0.0000e+00,  0.0000e+00,  0.0000e+00,\n",
       "         0.0000e+00,  0.0000e+00,  0.0000e+00,  0.0000e+00,  0.0000e+00,\n",
       "         0.0000e+00,  0.0000e+00,  0.0000e+00,  0.0000e+00,  0.0000e+00,\n",
       "         0.0000e+00,  0.0000e+00,  0.0000e+00,  0.0000e+00,  0.0000e+00,\n",
       "         0.0000e+00,  0.0000e+00,  0.0000e+00,  0.0000e+00,  0.0000e+00,\n",
       "         0.0000e+00,  0.0000e+00,  0.0000e+00,  0.0000e+00,  0.0000e+00,\n",
       "         0.0000e+00,  0.0000e+00,  0.0000e+00,  0.0000e+00,  0.0000e+00,\n",
       "         0.0000e+00,  0.0000e+00,  0.0000e+00,  0.0000e+00,  0.0000e+00,\n",
       "         0.0000e+00,  0.0000e+00,  0.0000e+00,  0.0000e+00,  0.0000e+00,\n",
       "         0.0000e+00,  0.0000e+00,  0.0000e+00,  0.0000e+00,  0.0000e+00,\n",
       "         0.0000e+00,  0.0000e+00,  0.0000e+00,  0.0000e+00,  0.0000e+00,\n",
       "         0.0000e+00,  0.0000e+00,  0.0000e+00,  0.0000e+00,  0.0000e+00,\n",
       "         0.0000e+00,  0.0000e+00,  0.0000e+00,  0.0000e+00,  0.0000e+00,\n",
       "         0.0000e+00,  0.0000e+00,  0.0000e+00,  0.0000e+00,  0.0000e+00,\n",
       "         0.0000e+00,  0.0000e+00,  0.0000e+00,  0.0000e+00,  0.0000e+00,\n",
       "         0.0000e+00,  0.0000e+00,  0.0000e+00,  0.0000e+00,  0.0000e+00,\n",
       "         0.0000e+00,  0.0000e+00,  0.0000e+00,  0.0000e+00,  0.0000e+00,\n",
       "         0.0000e+00,  0.0000e+00,  0.0000e+00,  0.0000e+00,  0.0000e+00,\n",
       "         0.0000e+00,  0.0000e+00,  0.0000e+00,  0.0000e+00,  0.0000e+00,\n",
       "         0.0000e+00,  0.0000e+00,  0.0000e+00,  0.0000e+00,  0.0000e+00,\n",
       "         0.0000e+00,  0.0000e+00,  0.0000e+00,  0.0000e+00,  0.0000e+00,\n",
       "         0.0000e+00,  0.0000e+00,  0.0000e+00,  0.0000e+00,  0.0000e+00,\n",
       "         0.0000e+00,  0.0000e+00,  0.0000e+00,  0.0000e+00,  0.0000e+00,\n",
       "         0.0000e+00,  0.0000e+00,  0.0000e+00,  0.0000e+00,  0.0000e+00,\n",
       "         0.0000e+00,  0.0000e+00,  0.0000e+00,  0.0000e+00,  0.0000e+00,\n",
       "         0.0000e+00,  0.0000e+00,  0.0000e+00,  0.0000e+00,  0.0000e+00,\n",
       "         0.0000e+00,  0.0000e+00,  0.0000e+00,  0.0000e+00,  0.0000e+00,\n",
       "         0.0000e+00,  0.0000e+00,  0.0000e+00,  0.0000e+00,  0.0000e+00,\n",
       "         0.0000e+00,  0.0000e+00,  0.0000e+00,  0.0000e+00,  0.0000e+00,\n",
       "         0.0000e+00,  0.0000e+00,  0.0000e+00,  0.0000e+00,  0.0000e+00,\n",
       "         0.0000e+00,  0.0000e+00,  0.0000e+00,  0.0000e+00,  0.0000e+00,\n",
       "         0.0000e+00,  0.0000e+00,  0.0000e+00,  0.0000e+00,  0.0000e+00,\n",
       "         0.0000e+00,  0.0000e+00,  0.0000e+00,  0.0000e+00,  0.0000e+00,\n",
       "         0.0000e+00,  0.0000e+00,  0.0000e+00,  0.0000e+00,  0.0000e+00,\n",
       "         0.0000e+00,  0.0000e+00,  0.0000e+00,  0.0000e+00,  0.0000e+00,\n",
       "         0.0000e+00,  0.0000e+00,  0.0000e+00,  0.0000e+00,  0.0000e+00,\n",
       "         0.0000e+00,  0.0000e+00,  0.0000e+00,  0.0000e+00,  0.0000e+00,\n",
       "         0.0000e+00,  0.0000e+00,  0.0000e+00,  0.0000e+00,  0.0000e+00,\n",
       "         0.0000e+00,  0.0000e+00,  0.0000e+00,  0.0000e+00,  0.0000e+00,\n",
       "         0.0000e+00,  0.0000e+00,  0.0000e+00,  0.0000e+00,  0.0000e+00,\n",
       "         0.0000e+00,  0.0000e+00,  0.0000e+00,  0.0000e+00,  0.0000e+00,\n",
       "         0.0000e+00,  0.0000e+00,  0.0000e+00,  0.0000e+00,  0.0000e+00,\n",
       "         0.0000e+00,  0.0000e+00,  0.0000e+00,  0.0000e+00,  0.0000e+00,\n",
       "         0.0000e+00,  0.0000e+00,  0.0000e+00,  0.0000e+00,  0.0000e+00,\n",
       "         0.0000e+00,  0.0000e+00,  0.0000e+00,  0.0000e+00,  0.0000e+00,\n",
       "         0.0000e+00,  0.0000e+00,  0.0000e+00,  0.0000e+00]])"
      ]
     },
     "execution_count": 16,
     "metadata": {},
     "output_type": "execute_result"
    }
   ],
   "source": [
    "X_train[:1]"
   ]
  },
  {
   "cell_type": "markdown",
   "metadata": {},
   "source": [
    "###  Final wrapper for digit classification\n",
    "\n",
    "#### I tried accroding to your given instruction unfortunately code does not work. I could not successful. However i tried it and due to time limit i could not show you as expected  file formate."
   ]
  },
  {
   "cell_type": "code",
   "execution_count": 86,
   "metadata": {},
   "outputs": [],
   "source": [
    "def digit_classify(file):\n",
    "\n",
    "    motion_data=pd.read_csv(file,header=None )\n",
    "    m=[]\n",
    "    for j in range(len(motion_data)):   \n",
    "        m.append(motion_data[0][j])\n",
    "        m.append(motion_data[1][j])\n",
    "        m.append(motion_data[2][j])\n",
    "    z = [0] * 879\n",
    "    print(m)\n",
    "    n=m+z\n",
    "    motion_data= n[:879]\n",
    "    \n",
    "    print('-----Show classification results---')\n",
    "\n",
    "    print(model.digit_classification(np.array([motion_data]))[0])\n"
   ]
  },
  {
   "cell_type": "code",
   "execution_count": 89,
   "metadata": {},
   "outputs": [
    {
     "name": "stdout",
     "output_type": "stream",
     "text": [
      "[-58.801, 307.23, -37.005, -62.505, 308.01, -37.767, -66.1, 311.92, -37.641, -68.229, 318.96, -36.881, -66.565, 327.23, -36.21, -60.674, 337.33, -34.384, -52.852, 344.85, -32.503, -46.775, 349.71, -30.611, -37.005, 356.01, -27.829, -25.911, 357.19, -26.835, -14.537, 353.02, -27.857, -4.4891, 344.16, -29.123, 1.2286, 332.74, -31.328, 2.7159, 318.41, -33.898, -0.62904, 302.06, -37.762, -10.04, 286.8, -39.875, -24.25, 271.51, -39.395, -40.626, 257.37, -36.738, -54.384, 247.44, -32.237, -62.14, 241.57, -29.02, -70.862, 232.16, -24.227, -74.742, 221.65, -19.631, -71.155, 214.4, -16.91, -58.928, 210.59, -17.675, -39.887, 211.35, -19.557, -18.925, 216.48, -19.04, -0.91588, 220.27, -17.509, 12.492, 222.87, -15.529, 20.55, 223.5, -13.905, 24.115, 223.54, -13.119, 24.968, 223.58, -13.134, 24.771, 223.66, -13.262, 24.33, 223.88, -13.243, 23.174, 224.3, -13.213, 22.066, 224.81, -13.212]\n",
      "-----Show classification results---\n",
      "2\n"
     ]
    }
   ],
   "source": [
    "digit_classify('training_data/stroke_2_0011.csv')"
   ]
  },
  {
   "cell_type": "code",
   "execution_count": null,
   "metadata": {},
   "outputs": [],
   "source": []
  }
 ],
 "metadata": {
  "kernelspec": {
   "display_name": "Python 3 (ipykernel)",
   "language": "python",
   "name": "python3"
  },
  "language_info": {
   "codemirror_mode": {
    "name": "ipython",
    "version": 3
   },
   "file_extension": ".py",
   "mimetype": "text/x-python",
   "name": "python",
   "nbconvert_exporter": "python",
   "pygments_lexer": "ipython3",
   "version": "3.9.12"
  }
 },
 "nbformat": 4,
 "nbformat_minor": 2
}
